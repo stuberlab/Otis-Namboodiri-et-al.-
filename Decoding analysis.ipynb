{
 "cells": [
  {
   "cell_type": "code",
   "execution_count": null,
   "metadata": {
    "collapsed": false
   },
   "outputs": [],
   "source": [
    "import os\n",
    "import matplotlib.pyplot as plt\n",
    "%matplotlib inline\n",
    "import seaborn as sns\n",
    "import numpy as np\n",
    "import scipy.stats as stats\n",
    "import scipy.io as sio\n",
    "import os\n",
    "import subprocess\n",
    "import pickle\n",
    "from sklearn.discriminant_analysis import LinearDiscriminantAnalysis\n",
    "from sklearn.svm import SVC, SVR\n",
    "from sklearn.decomposition import PCA\n",
    "from sklearn.metrics import accuracy_score\n",
    "from sklearn import cross_validation\n",
    "from sklearn.grid_search import GridSearchCV\n",
    "from statsmodels.distributions.empirical_distribution import ECDF"
   ]
  },
  {
   "cell_type": "code",
   "execution_count": null,
   "metadata": {
    "collapsed": true
   },
   "outputs": [],
   "source": [
    "def binaryclassifier(y, X):\n",
    "    hyperparameters = {'kernel': ['rbf'], 'gamma': [1e-2, 1e-1, 1e0, 1e1, 1e2],\n",
    "                     'C': [1e-2, 1e-1, 1e0, 1e1, 1e2]}\n",
    "    clf = GridSearchCV(SVC(), hyperparameters, cv=10)\n",
    "    if np.all(np.isnan(X)):\n",
    "        accuracy=np.nan\n",
    "    else:\n",
    "        clf.fit(X, y)\n",
    "        accuracy = clf.best_score_\n",
    "    #reference for 10-fold cross-validation http://web.cs.iastate.edu/~jtian/cs573/Papers/Kohavi-IJCAI-95.pdf\n",
    "    return accuracy\n",
    "\n",
    "def svmregression(y, X):\n",
    "    hyperparameters = {'kernel': ['rbf'], 'C': np.logspace(-3, 3, 5),\n",
    "                      'epsilon': np.logspace(-3, 3, 5),\n",
    "                      'gamma': np.logspace(-5, 5, 10)}\n",
    "    clf = GridSearchCV(SVR(), hyperparameters, cv=10)\n",
    "    if np.all(np.isnan(X)):\n",
    "        R2=np.nan\n",
    "    else:\n",
    "        clf.fit(X, y)\n",
    "        \"\"\"y_pred = clf.predict(X)\n",
    "        plt.plot(y,y_pred,'ko')\"\"\"\n",
    "        R2 = clf.best_score_\n",
    "    #reference for 10-fold cross-validation http://web.cs.iastate.edu/~jtian/cs573/Papers/Kohavi-IJCAI-95.pdf\n",
    "    return R2"
   ]
  },
  {
   "cell_type": "markdown",
   "metadata": {},
   "source": [
    "Verify that the above code works on known data"
   ]
  },
  {
   "cell_type": "code",
   "execution_count": null,
   "metadata": {
    "collapsed": false
   },
   "outputs": [],
   "source": [
    "rng = np.random.RandomState(0)\n",
    "x = 100 * rng.rand(100,) #np.arange(100)\n",
    "y = x #np.sin(x).ravel()\n",
    "\n",
    "plt.plot(x,y,'o')\n",
    "\n",
    "print svmregression(y, np.expand_dims(x, axis=1))"
   ]
  },
  {
   "cell_type": "markdown",
   "metadata": {},
   "source": [
    "The data are organized into individual folders for each group ('LateNAc', 'LatePVT', 'EarlyNAc', 'EarlyPVT', 'LateCaMKii', 'EarlyCaMKii') and each folder contains individual sessions of imaging. Within each such session, the files that are important are:\n",
    "\n",
    "1. extractedsignals.npy Contains the extracted fluorescence traces from all recorded ROIs. In this experiment, the recordings were only made from 7 seconds before cue delivery to 13 seconds after cue delivery at a framerate of 2.5Hz. So each trial has 50 frames and since there are 100 trials, there a total of 5000 frames.\n",
    "\n",
    "2. alignedtotrial.npy contains the above signals organized into an array of shape (numtrials, numframes, numrois). So there are 100 trials, 50 frames per trial and however many numbers of ROIs were recorded per session.\n",
    "\n",
    "3. csplustrials.npy and csminustrials.npy contain aligned arrays as above but split into CS+ and CS-\n",
    "\n",
    "4. A .mat file ending with _results.mat: this is a MATLAB file containing the behavioral timestamps. There are many more variables in this file than are useful for this particular experiment. The important variables from this file are imported into python in the cell below."
   ]
  },
  {
   "cell_type": "code",
   "execution_count": null,
   "metadata": {
    "collapsed": false
   },
   "outputs": [],
   "source": [
    "basedir = 'full/path/to/directory/where/data/is/stored'\n",
    "\n",
    "groups = ['LateNAc','LatePVT']#,'EarlyNAc','EarlyPVT','LateCaMKii','EarlyCaMKii']\n",
    "csperiod = [23, 26]\n",
    "baselineperiod = [14, 16]\n",
    "rewardperiod = [28, 35]\n",
    "numshuffles = 1 #number of shuffles\n",
    "\n",
    "csminus_classification_accuracy = {}\n",
    "lickprediction_R2 = {}\n",
    "\n",
    "for group in groups:\n",
    "    csminus_classification_accuracy[group] = {}\n",
    "    csminus_classification_accuracy[group]['individualneurons'] = {}\n",
    "    csminus_classification_accuracy[group]['individualneurons']['shuffled'] = {}\n",
    "    csminus_classification_accuracy[group]['individualneurons']['unshuffled'] = {}\n",
    "    csminus_classification_accuracy[group]['session'] = {}\n",
    "    csminus_classification_accuracy[group]['session']['shuffled'] = {}\n",
    "    csminus_classification_accuracy[group]['session']['unshuffled'] = {}\n",
    "    lickprediction_R2[group] = {}\n",
    "    lickprediction_R2[group]['individualneurons'] = {}\n",
    "    lickprediction_R2[group]['individualneurons']['shuffled'] = {}\n",
    "    lickprediction_R2[group]['individualneurons']['unshuffled'] = {}\n",
    "    lickprediction_R2[group]['session'] = {}\n",
    "    lickprediction_R2[group]['session']['shuffled'] = {}\n",
    "    lickprediction_R2[group]['session']['unshuffled'] = {}\n",
    "    \n",
    "    datadirs = os.walk(os.path.join(basedir, group)).next()[1]\n",
    "    numneuronstillnow = 0\n",
    "    for datadir in datadirs:\n",
    "        print 'Analyzing %s\\%s'%(group, datadir)\n",
    "        tempmatfiles = os.walk(os.path.join(basedir, group, datadir)).next()[2]\n",
    "        matfiles = [f for f in tempmatfiles if 'results' in f and os.path.splitext(f)[1]=='.mat']\n",
    "        if len(matfiles) > 1:\n",
    "            raise Exception('%s/%s: Multiple .mat files found. Only keep the results file'%(group,datadir))\n",
    "        elif len(matfiles)==0:\n",
    "            raise Exception('%s/%s: No .mat files found!'%(group,datadir))\n",
    "        matfile = matfiles[0]\n",
    "\n",
    "        behaviordata = sio.loadmat(os.path.join(basedir, group, datadir, matfile))\n",
    "        tempdataplus = np.squeeze(behaviordata['nlicksplus'])[:,-1] #Use anticipatory licks during trace interval\n",
    "        tempdataminus = np.squeeze(behaviordata['nlicksminus'])[:,-1] #Use anticipatory licks during trace interval\n",
    "        tempdataplusconsumption = np.squeeze(behaviordata['nlicksplusconsumption'])[:,0] #Use consumption licks during 1st second\n",
    "        tempdataminusconsumption = np.squeeze(behaviordata['nlicksminusconsumption'])[:,0] #Use consumption licks during 1st second\n",
    "        csminusflagfortrial = np.squeeze(behaviordata['csminusflagfortrial'])\n",
    "        nlicksplus = tempdataplus[np.logical_not(csminusflagfortrial)]\n",
    "        nlicksminus = tempdataminus[csminusflagfortrial==1]\n",
    "\n",
    "        #csplustrials = np.load(os.path.join(basedir, group, datadir, 'csplustrials.npy'))\n",
    "        #csminustrials = np.load(os.path.join(basedir, group, datadir, 'csminustrials.npy'))\n",
    "        alltrials = np.load(os.path.join(basedir, group, datadir, 'aligned to trial.npy'))\n",
    "        numneurons = alltrials.shape[2]\n",
    "        numtrials = alltrials.shape[0]\n",
    "        numsamples = alltrials.shape[1]\n",
    "        neuralactivity_population_cue = np.nan*np.ones((numtrials,numneurons))\n",
    "        neuralactivity_population_reward = np.nan*np.ones((numtrials,numneurons))\n",
    "        \n",
    "        neuralactivity_population_cue_plus = np.nan*np.ones((nlicksplus.shape[0],numneurons))\n",
    "                \n",
    "        for neuron in range(numneurons):\n",
    "            cue = np.mean(alltrials[:,csperiod[0]:csperiod[1],neuron], axis=1)\n",
    "            baseline = np.mean(alltrials[:,baselineperiod[0]:baselineperiod[1],neuron], axis=1)\n",
    "            reward = np.mean(alltrials[:,rewardperiod[0]:rewardperiod[1],neuron], axis=1)\n",
    "\n",
    "            neuralactivity_population_cue[:,neuron] = cue-baseline\n",
    "            neuralactivity_population_reward[:,neuron] = reward-baseline\n",
    "                        \n",
    "            csminus_classification_accuracy[group]['individualneurons']['unshuffled'][numneuronstillnow+neuron] = binaryclassifier(csminusflagfortrial,\n",
    "                                                                                                   np.expand_dims(neuralactivity_population_cue[:,neuron], axis=1))\n",
    "            \n",
    "            shuffledresults = np.nan*np.ones((numshuffles,))\n",
    "            for shuffleid in range(numshuffles):\n",
    "                shuffled_csminusflag = np.random.permutation(csminusflagfortrial)\n",
    "                shuffledresults[shuffleid] = binaryclassifier(shuffled_csminusflag,\n",
    "                                                               np.expand_dims(neuralactivity_population_cue[:,neuron], axis=1))\n",
    "            csminus_classification_accuracy[group]['individualneurons']['shuffled'][numneuronstillnow+neuron] = shuffledresults\n",
    "            \n",
    "            neuralactivity_population_cue_plus[:,neuron] = (cue-baseline)[np.logical_not(csminusflagfortrial)]\n",
    "            lickprediction_R2[group]['individualneurons']['unshuffled'][numneuronstillnow+neuron] = svmregression(nlicksplus,\n",
    "                                                                                  np.expand_dims(neuralactivity_population_cue_plus[:,neuron], axis=1))\n",
    "            \n",
    "            shuffledresults = np.nan*np.ones((numshuffles,))\n",
    "            for shuffleid in range(numshuffles):\n",
    "                shuffled_nlicksplus = np.random.permutation(nlicksplus)\n",
    "                shuffledresults[shuffleid] = svmregression(shuffled_nlicksplus,\n",
    "                                                           np.expand_dims(neuralactivity_population_cue_plus[:,neuron], axis=1))\n",
    "            lickprediction_R2[group]['individualneurons']['shuffled'][numneuronstillnow+neuron] = shuffledresults\n",
    "        \n",
    "        numneuronstillnow += numneurons\n",
    "        csminus_classification_accuracy[group]['session']['unshuffled'][datadir] = binaryclassifier(csminusflagfortrial, \n",
    "                                                                                                    neuralactivity_population_cue)\n",
    "        shuffledresults = np.nan*np.ones((numshuffles,))\n",
    "        for shuffleid in range(numshuffles):\n",
    "            shuffled_csminusflag = np.random.permutation(csminusflagfortrial)\n",
    "            shuffledresults[shuffleid] = binaryclassifier(shuffled_csminusflag, neuralactivity_population_cue)\n",
    "        csminus_classification_accuracy[group]['session']['shuffled'][datadir] = shuffledresults\n",
    "        print '%s/%s unshuffled: accuracy = %.2f, number of neurons =%d'%(group,\n",
    "                                                                   datadir,\n",
    "                                                                   csminus_classification_accuracy[group]['session']['unshuffled'][datadir],\n",
    "                                                                   numneurons)\n",
    "        \n",
    "        lickprediction_R2[group]['session']['unshuffled'][datadir] = svmregression(nlicksplus,\n",
    "                                                                                   neuralactivity_population_cue_plus)\n",
    "        shuffledresults = np.nan*np.ones((numshuffles,))\n",
    "        for shuffleid in range(numshuffles):\n",
    "            shuffled_nlicksplus = np.random.permutation(nlicksplus)\n",
    "            shuffledresults[shuffleid] = svmregression(shuffled_nlicksplus,\n",
    "                                                       neuralactivity_population_cue_plus)\n",
    "        lickprediction_R2[group]['session']['shuffled'][datadir] = shuffledresults\n",
    "\"\"\"with open(os.path.join(basedir, 'csminus_classification_accuracy_%s.pickle'%groups), 'wb') as handle:\n",
    "    pickle.dump(csminus_classification_accuracy, handle)\n",
    "with open(os.path.join(basedir, 'lickprediction_R2_%s.pickle'%groups), 'wb') as handle:\n",
    "    pickle.dump(lickprediction_R2, handle)\"\"\""
   ]
  },
  {
   "cell_type": "code",
   "execution_count": null,
   "metadata": {
    "collapsed": false
   },
   "outputs": [],
   "source": [
    "def CDFplot(x, ax, color=None, label='', linetype='-'):\n",
    "    x = np.array(x)\n",
    "    ix=np.argsort(x)\n",
    "    ax.plot(x[ix], ECDF(x)(x)[ix], linetype, color=color, label=label)\n",
    "    return ax\n",
    "\n",
    "def plot_accuracy(data, label, neuron_or_session):\n",
    "    fig, ax = plt.subplots()\n",
    "    for g, group in enumerate(groups):\n",
    "        ax = CDFplot(data[group][neuron_or_session]['unshuffled'].values(),\n",
    "                     ax,\n",
    "                     label=group+' unshuffled')\n",
    "        temp = data[group][neuron_or_session]['shuffled'].values()\n",
    "        ax = CDFplot(np.array(temp).T[0],\n",
    "                     ax,\n",
    "                     linetype = '--',\n",
    "                     label=group+' shuffled')\n",
    "    ax.set_ylabel('CDF')\n",
    "    ax.set_xlabel('Individual neuronal decoding accuracy')\n",
    "    ax.legend()\n",
    "    fig.show()\n",
    "    fig.savefig(os.path.join(basedir, '%s_%s_%s.png'%(label, neuron_or_session, groups)), format='png', dpi=300)\n",
    "    fig.savefig(os.path.join(basedir, '%s_%s_%s.pdf'%(label, neuron_or_session, groups)), format='pdf')\n",
    "\n",
    "def calculate_df_Welch_ttest(x,\n",
    "                             y):\n",
    "    # This function calculates the degrees of freedom for Welch's t test.\n",
    "    # This is not given as a result for the scipy function\n",
    "    # x and y should be vectors\n",
    "    nx = x.shape[0];ny = y.shape[0]\n",
    "    df = (np.var(x)/nx+np.var(y)/ny)**2/((np.var(x)/nx)**2/(nx-1)+(np.var(y)/ny)**2/(ny-1))\n",
    "    return df"
   ]
  },
  {
   "cell_type": "code",
   "execution_count": null,
   "metadata": {
    "collapsed": false
   },
   "outputs": [],
   "source": [
    "plot_accuracy(csminus_classification_accuracy, 'csminus_classification_accuracy', 'individualneurons')\n",
    "#plot_accuracy(csminus_classification_accuracy, 'csminus_classification_accuracy', 'session')\n",
    "#plot_accuracy(lickprediction_R2, 'lickprediction_R2', 'individualneurons')\n",
    "#plot_accuracy(lickprediction_R2, 'lickprediction_R2', 'session')"
   ]
  },
  {
   "cell_type": "code",
   "execution_count": null,
   "metadata": {
    "collapsed": false
   },
   "outputs": [],
   "source": [
    "x = np.array(lickprediction_R2['LatePVT']['individualneurons']['unshuffled'].values())\n",
    "y = np.array(lickprediction_R2['LateNAc']['individualneurons']['unshuffled'].values())\n",
    "print stats.ttest_ind(x, y, equal_var=False)\n",
    "print 'Degrees of freedom for the above test = %f' % calculate_df_Welch_ttest(x, y)\n",
    "print np.mean(x), np.mean(y)"
   ]
  },
  {
   "cell_type": "code",
   "execution_count": null,
   "metadata": {
    "collapsed": false
   },
   "outputs": [],
   "source": [
    "fig, ax = plt.subplots()\n",
    "for g, group in enumerate(groups):\n",
    "    ax = CDFplot(lickprediction_R2[group]['individualneurons']['unshuffled'].values(),\n",
    "                 ax,\n",
    "                 label=group+': unshuffled')\n",
    "    temp = lickprediction_R2[group]['individualneurons']['shuffled'].values()\n",
    "    ax = CDFplot(np.array(temp).T[0],\n",
    "                 ax,\n",
    "                 label=group+': shuffled',\n",
    "                 linetype='--')\n",
    "    ax.legend(loc='upper left')\n",
    "ax.set_ylabel('CDF')\n",
    "ax.set_xlabel('Individual neuronal decoding accuracy')\n",
    "fig.show()"
   ]
  }
 ],
 "metadata": {
  "kernelspec": {
   "display_name": "Python 2",
   "language": "python",
   "name": "python2"
  },
  "language_info": {
   "codemirror_mode": {
    "name": "ipython",
    "version": 2
   },
   "file_extension": ".py",
   "mimetype": "text/x-python",
   "name": "python",
   "nbconvert_exporter": "python",
   "pygments_lexer": "ipython2",
   "version": "2.7.12"
  }
 },
 "nbformat": 4,
 "nbformat_minor": 0
}
